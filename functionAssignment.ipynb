{
 "cells": [
  {
   "cell_type": "code",
   "execution_count": 49,
   "id": "2f6a3ae4-f233-45af-9065-488618b88a65",
   "metadata": {},
   "outputs": [
    {
     "name": "stdout",
     "output_type": "stream",
     "text": [
      "Hello, Sachin!\n",
      "Hello, Sachin!\n"
     ]
    }
   ],
   "source": [
    "# Question : 1 What is the difference between a function and a method in python?\n",
    "\n",
    "#Ans : Function: A function is an independent block of code that is not associated with any object. You can define a function using the def keyword, and it can be called by its name anywhere in the program.\n",
    "def minakshi(name):\n",
    "    return f\"Hello, {name}!\"\n",
    "print(minakshi(\"Sachin\"))\n",
    "\n",
    "\n",
    "\n",
    "#Method : A method is a function that is associated with an object, typically defined inside a class. And operates on the data (attributes) contained in the object it is associated with. It implicitly takes the instance (self) of the object as its first parameter\n",
    "class mina:\n",
    "    def __init__(self, name):\n",
    "        self.name = name\n",
    "    \n",
    "    def minakshi(self):\n",
    "        return f\"Hello, {self.name}!\"\n",
    "\n",
    "greeter = mina(\"Sachin\")\n",
    "print(greeter.minakshi())"
   ]
  },
  {
   "cell_type": "code",
   "execution_count": 50,
   "id": "a214e8bf-3ff6-4fe0-b50a-5a6df65fb4cd",
   "metadata": {},
   "outputs": [
    {
     "name": "stdout",
     "output_type": "stream",
     "text": [
      "15\n"
     ]
    }
   ],
   "source": [
    "#Question : 2 Explain the concept of function arguments and parameters in python\n",
    "\n",
    "#Ans : In Python, parameters are the variables listed in a function’s definition, while arguments are the actual values passed to the function when it is called. Parameters define what inputs the function expects, and arguments provide those inputs during execution. There are several types of arguments in Python, including positional arguments, keyword arguments, default arguments, and variable-length arguments. Positional arguments are passed in order, while keyword arguments use parameter names. Default arguments provide fallback values. Variable-length arguments allow passing an arbitrary number of values using *args (for tuples) and **kwargs (for dictionaries).\n",
    "# Parameters: 'a' and 'b'\n",
    "def add(a, b):  \n",
    "    return a + b\n",
    "\n",
    "# Arguments: 5 and 10\n",
    "result = add(5, 10)  \n",
    "print(result)  # Output: 15\n"
   ]
  },
  {
   "cell_type": "code",
   "execution_count": 51,
   "id": "9cf14b54-4bb9-4056-a4e7-c3a1cd3d8236",
   "metadata": {},
   "outputs": [],
   "source": [
    "#Question : 3 Describe how to access, modify, and delete elements in a list with examples.\n",
    "# Ans : \n",
    "# a ) Accessing Elements\n",
    "# Use indexing to retrieve elements. Indexing starts at 0.\n",
    "fruits = ['apple', 'banana', 'cherry']\n",
    "first_fruit = fruits[0]  # 'apple'\n",
    "last_fruit = fruits[-1]  # 'cherry'\n",
    "\n",
    "# Modifying Elements\n",
    "# Assign a new value to a specific index to change an element.\n",
    "fruits = ['apple', 'banana', 'cherry']\n",
    "fruits[1] = 'blueberry'  # Change 'banana' to 'blueberry'\n",
    "\n",
    "# Deleting Elements\n",
    "# 1) Using del keyword:\n",
    "fruits = ['apple', 'banana', 'cherry']\n",
    "del fruits[1]  # Remove 'banana'\n",
    "\n",
    "\n",
    "# 2) Using pop() method:\n",
    "fruits = ['apple', 'banana', 'cherry']\n",
    "removed_fruit = fruits.pop(1)  # Remove 'banana'\n",
    "\n",
    "# 3) Using remove() method:\n",
    "fruits = ['apple', 'banana', 'cherry']\n",
    "fruits.remove('banana')  # Remove the first occurrence of 'banana'\n",
    "\n",
    "# 4) Using list comprehension:\n",
    "fruits = ['apple', 'banana', 'cherry']\n",
    "fruits = [fruit for fruit in fruits if fruit != 'banana']  # Remove 'banana'"
   ]
  },
  {
   "cell_type": "code",
   "execution_count": 53,
   "id": "72e94b2d-ad5a-48d9-a25f-7afdf2feb7cc",
   "metadata": {},
   "outputs": [
    {
     "name": "stdout",
     "output_type": "stream",
     "text": [
      "[10, 2, 3, 4]\n",
      "Size of list: 88 bytes\n",
      "Size of tuple: 64 bytes\n",
      "List iteration time: 0.07305459200870246\n",
      "Size of list: 88 bytes\n",
      "Size of tuple: 64 bytes\n",
      "List iteration time: 0.07246101694181561\n",
      "Tuple iteration time: 0.0779538209317252\n"
     ]
    }
   ],
   "source": [
    "#Question : 4 Compare and contrast tuples and lists in example.\n",
    "\n",
    "#Ans : Tuples and lists are both used to store collections of items, but they have some key differences. Here's a comparison with examples:\n",
    "\n",
    "#1. Mutability\n",
    "#Lists are mutable: You can change their contents (e.g., add, remove, or modify elements). Tuples are immutable: Once created, their contents cannot be changed. Example:\n",
    "\n",
    "#Lists\n",
    "my_list = [1, 2, 3]\n",
    "my_list[0] = 10  # Modifying an element\n",
    "my_list.append(4)  # Adding an element\n",
    "print(my_list)  # Output: [10, 2, 3, 4]\n",
    "\n",
    "#Tuples\n",
    "my_tuple = (1, 2, 3)\n",
    "# my_tuple[0] = 10  # This will raise a TypeError\n",
    "# my_tuple.append(4)  # This will raise an AttributeError\n",
    "\n",
    "# 2. Syntax\n",
    "# Lists use square brackets []. Tuples use parentheses (). Example:\n",
    "# List\n",
    "my_list = [1, 2, 3]\n",
    "\n",
    "# Tuple\n",
    "my_tuple = (1, 2, 3)\n",
    "\n",
    "\n",
    "#3. Performance\n",
    "# Tuples generally have a slight performance advantage over lists because they are immutable. They use less memory and can be faster for iteration. Lists are more flexible but have a bit more overhead due to their mutability. Example:\n",
    "import sys\n",
    "import timeit\n",
    "\n",
    "# Measuring memory size\n",
    "list_size = sys.getsizeof([1, 2, 3])\n",
    "tuple_size = sys.getsizeof((1, 2, 3))\n",
    "\n",
    "print(f\"Size of list: {list_size} bytes\")\n",
    "print(f\"Size of tuple: {tuple_size} bytes\")\n",
    "\n",
    "# Measuring iteration speed\n",
    "list_time = timeit.timeit('for i in [1, 2, 3]: pass', number=1000000)\n",
    "tuple_time = timeit.timeit('for i in (1, 2, 3): pass', number=1000000)\n",
    "\n",
    "print(f\"List iteration time: {list_time}\")\n",
    "#3. Performance\n",
    "# Tuples generally have a slight performance advantage over lists because they are immutable. They use less memory and can be faster for iteration. Lists are more flexible but have a bit more overhead due to their mutability. Example:\n",
    "import sys\n",
    "import timeit\n",
    "\n",
    "# Measuring memory size\n",
    "list_size = sys.getsizeof([1, 2, 3])\n",
    "tuple_size = sys.getsizeof((1, 2, 3))\n",
    "\n",
    "print(f\"Size of list: {list_size} bytes\")\n",
    "print(f\"Size of tuple: {tuple_size} bytes\")\n",
    "\n",
    "# Measuring iteration speed\n",
    "list_time = timeit.timeit('for i in [1, 2, 3]: pass', number=1000000)\n",
    "tuple_time = timeit.timeit('for i in (1, 2, 3): pass', number=1000000)\n",
    "\n",
    "print(f\"List iteration time: {list_time}\")\n",
    "print(f\"Tuple iteration time: {tuple_time}\")"
   ]
  },
  {
   "cell_type": "code",
   "execution_count": 54,
   "id": "2baf725d-7f80-4401-929f-890c2937e9e9",
   "metadata": {},
   "outputs": [
    {
     "name": "stdout",
     "output_type": "stream",
     "text": [
      "[1, 3, 4]\n",
      "2\n",
      "2\n"
     ]
    }
   ],
   "source": [
    "\n",
    "\n",
    "#4. Use Cases\n",
    "#Lists are suitable when you need a collection of items that may change over time. They are commonly used when the order of elements is important and you may need to update the collection. Tuples are suitable for fixed collections of items. They are often used for heterogeneous (different types) data where the content shouldn't change, like storing coordinates or function return values. Example:\n",
    "# List (mutable)\n",
    "shopping_list = ['milk', 'bread', 'eggs']  # Can be changed as needed\n",
    "\n",
    "# Tuple (immutable)\n",
    "coordinates = (40.7128, -74.0060)  # Latitude and longitude; shouldn't change\n",
    "\n",
    "#5. Methods\n",
    "#Lists come with several methods for modification (e.g., append(), remove(), extend()). Tuples have fewer methods because they are immutable (e.g., count(), index()). Example:\n",
    "\n",
    "# List methods\n",
    "my_list = [1, 2, 3]\n",
    "my_list.append(4)  # Add element\n",
    "my_list.remove(2)  # Remove element\n",
    "print(my_list)  # Output: [1, 3, 4]\n",
    "\n",
    "# Tuple methods\n",
    "my_tuple = (1, 2, 3, 2)\n",
    "print(my_tuple.count(2))  # Count occurrences of 2\n",
    "print(my_tuple.index(3))  # Find index of 3\n",
    "#In summary: Lists: Mutable, flexible, more methods, suitable for changing collections. Tuples: Immutable, slightly faster and memory-efficient, suitable for fixed collections."
   ]
  },
  {
   "cell_type": "code",
   "execution_count": 55,
   "id": "8a05b79a-4858-419f-8b1f-3d624fee578e",
   "metadata": {},
   "outputs": [
    {
     "name": "stdout",
     "output_type": "stream",
     "text": [
      "1\n"
     ]
    }
   ],
   "source": [
    "#Question : 5 Iterators vs Iterables\n",
    "#Ans :\n",
    "#Iterables are objects like lists or strings that can be looped over (using a for loop).\n",
    "#Iterators are objects that represent a stream of data and can be iterated one value at a time using next().\n",
    "#Difference: Iterable can be converted into an iterator using iter(), while iterators maintain state and generate values on demand.\n",
    "my_list = [1, 2, 3]  # Iterable\n",
    "iterator = iter(my_list)  # Iterator\n",
    "print(next(iterator))  # Output: 1"
   ]
  },
  {
   "cell_type": "code",
   "execution_count": 56,
   "id": "202cbafc-8254-42ad-a79d-393219a6eadf",
   "metadata": {},
   "outputs": [
    {
     "name": "stdout",
     "output_type": "stream",
     "text": [
      "0\n",
      "1\n",
      "2\n"
     ]
    }
   ],
   "source": [
    "#Question : 6 Generators in Python\n",
    "# ans : Generators are functions that return an iterator, where values are produced one at a time using the yield keyword instead of returning all at once with return. Generators allow lazy evaluation, meaning values are generated as needed.\n",
    "def my_generator():\n",
    "    for i in range(3):\n",
    "        yield i\n",
    "\n",
    "for value in my_generator():\n",
    "    print(value)\n"
   ]
  },
  {
   "cell_type": "code",
   "execution_count": 57,
   "id": "c4514cb8-5cbf-4ea2-8e83-cd9cb37329a9",
   "metadata": {},
   "outputs": [
    {
     "name": "stdout",
     "output_type": "stream",
     "text": [
      "[1, 2]\n"
     ]
    }
   ],
   "source": [
    "# Question : 7 Advantages of Generators\n",
    "# Ans : \n",
    "#Memory Efficient: Generators produce items one by one, reducing memory usage, especially with large datasets.\n",
    "#Lazy Evaluation: Values are generated only when needed, making generators faster for some operations.\n",
    "#State Retention: Generators maintain their state between calls, allowing resumption of iteration where it left off.\n",
    "def generate_numbers():\n",
    "    yield 1\n",
    "    yield 2\n",
    "print(list(generate_numbers()))  # Output: [1, 2]\n"
   ]
  },
  {
   "cell_type": "code",
   "execution_count": 58,
   "id": "60141281-af03-4617-98a3-4eb5a235e0bc",
   "metadata": {},
   "outputs": [
    {
     "name": "stdout",
     "output_type": "stream",
     "text": [
      "16\n"
     ]
    }
   ],
   "source": [
    "# Question : 8 Lambda Function in Python\n",
    "# A lambda function is an anonymous, inline function defined using the lambda keyword. It is typically used for short, throwaway functions that are passed as arguments in other functions.#\n",
    "square = lambda x: x * x\n",
    "print(square(4))  # Output: 16\n"
   ]
  },
  {
   "cell_type": "code",
   "execution_count": 59,
   "id": "fdc79966-5419-4fca-96c3-23b79fc432f9",
   "metadata": {},
   "outputs": [
    {
     "name": "stdout",
     "output_type": "stream",
     "text": [
      "[1, 4, 9, 16]\n"
     ]
    }
   ],
   "source": [
    "# Question : 9 Purpose and Usage of map() Function\n",
    "# The map() function applies a given function to all items in an iterable (e.g., list, tuple) and returns a map object.\n",
    "numbers = [1, 2, 3, 4]\n",
    "squared = map(lambda x: x**2, numbers)\n",
    "print(list(squared))  # Output: [1, 4, 9, 16]\n"
   ]
  },
  {
   "cell_type": "code",
   "execution_count": 60,
   "id": "e62078c8-22de-4356-901a-97477db02070",
   "metadata": {},
   "outputs": [],
   "source": [
    "# Question : 10 Purpose of map(), reduce(), and filter()\n",
    "from functools import reduce \n",
    "\n",
    "# map(): Applies a function to every item in an iterable.\n",
    "map_result = map(lambda x: x * 2, [1, 2, 3])  # Output: [2, 4, 6]\n",
    "\n",
    "#reduce(): Applies a function to pairs of items, reducing them to a single value (import from functools). from functools import reduce\n",
    "reduce_result = reduce(lambda x, y: x + y, [1, 2, 3])  # Output: 6\n",
    "\n",
    "#filter(): Filters items in an iterable based on a condition.\n",
    "filter_result = filter(lambda x: x > 2, [1, 2, 3])  # Output: [3]"
   ]
  },
  {
   "cell_type": "code",
   "execution_count": 61,
   "id": "a181e2fb-2643-49a0-a942-9816719d3529",
   "metadata": {},
   "outputs": [],
   "source": [
    "# Question : 11 Internal Mechanism\n",
    "\n",
    "\n",
    "#ans\n",
    "\n",
    "#Start with 47 and 11 → sum = 58.\n",
    "#Then, 58 and 42 → sum = 100.\n",
    "#Finally, 100 and 13 → sum = 113."
   ]
  },
  {
   "cell_type": "code",
   "execution_count": 62,
   "id": "59f98bfe-df17-4baa-bd43-09cd2c8a5fd3",
   "metadata": {},
   "outputs": [],
   "source": [
    "# PRACTICE QUESTIONS"
   ]
  },
  {
   "cell_type": "code",
   "execution_count": 63,
   "id": "e3b27d9a-059e-4056-98ad-0ef1470c953e",
   "metadata": {},
   "outputs": [
    {
     "name": "stdout",
     "output_type": "stream",
     "text": [
      "12\n"
     ]
    }
   ],
   "source": [
    "#Practical : 1 Function to sum all even numbers in a list:\n",
    "def sum_even_numbers(numbers):\n",
    "    return sum(num for num in numbers if num % 2 == 0)\n",
    "\n",
    "# Example usage:\n",
    "numbers = [1, 2, 3, 4, 5, 6]\n",
    "print(sum_even_numbers(numbers))  # Output: 12\n"
   ]
  },
  {
   "cell_type": "code",
   "execution_count": 64,
   "id": "29af4d97-5a51-4e5e-a294-448c2264bdae",
   "metadata": {},
   "outputs": [
    {
     "name": "stdout",
     "output_type": "stream",
     "text": [
      "olleh\n"
     ]
    }
   ],
   "source": [
    "#Practical : 2 Function to reverse a string:\n",
    "def reverse_string(s):\n",
    "    return s[::-1]\n",
    "\n",
    "# Example usage:\n",
    "s = \"hello\"\n",
    "print(reverse_string(s))  # Output: \"olleh\"\n"
   ]
  },
  {
   "cell_type": "code",
   "execution_count": 65,
   "id": "5d5b37f2-79a2-41a7-8399-2d1edaa62efc",
   "metadata": {},
   "outputs": [
    {
     "name": "stdout",
     "output_type": "stream",
     "text": [
      "[1, 4, 9, 16]\n"
     ]
    }
   ],
   "source": [
    "#Practical : 3 Function to return a list of squares:\n",
    "def square_numbers(numbers):\n",
    "    return [num ** 2 for num in numbers]\n",
    "\n",
    "# Example usage:\n",
    "numbers = [1, 2, 3, 4]\n",
    "print(square_numbers(numbers))  # Output: [1, 4, 9, 16]\n"
   ]
  },
  {
   "cell_type": "code",
   "execution_count": 66,
   "id": "36cab959-4701-47e9-b788-5a875ed4af15",
   "metadata": {},
   "outputs": [
    {
     "name": "stdout",
     "output_type": "stream",
     "text": [
      "[2, 3, 5, 7, 11, 13, 17, 19, 23, 29, 31, 37, 41, 43, 47, 53, 59, 61, 67, 71, 73, 79, 83, 89, 97, 101, 103, 107, 109, 113, 127, 131, 137, 139, 149, 151, 157, 163, 167, 173, 179, 181, 191, 193, 197, 199]\n"
     ]
    }
   ],
   "source": [
    "# Practical : 4 Function to check if a number is prime:\n",
    "def is_prime(n):\n",
    "    if n < 2:\n",
    "        return False\n",
    "    for i in range(2, int(n**0.5) + 1):\n",
    "        if n % i == 0:\n",
    "            return False\n",
    "    return True\n",
    "\n",
    "# Check prime numbers from 1 to 200\n",
    "primes = [n for n in range(1, 201) if is_prime(n)]\n",
    "print(primes)\n"
   ]
  },
  {
   "cell_type": "code",
   "execution_count": 67,
   "id": "2033d3ee-41c1-4ff9-bc32-9141080f34b8",
   "metadata": {},
   "outputs": [
    {
     "name": "stdout",
     "output_type": "stream",
     "text": [
      "0 1 1 2 3 5 8 13 21 34 "
     ]
    }
   ],
   "source": [
    "#Practical : 5 Fibonacci iterator class:\n",
    "class Fibonacci:\n",
    "    def __init__(self, n):\n",
    "        self.n = n\n",
    "        self.a, self.b = 0, 1\n",
    "        self.count = 0\n",
    "\n",
    "    def __iter__(self):\n",
    "        return self\n",
    "\n",
    "    def __next__(self):\n",
    "        if self.count >= self.n:\n",
    "            raise StopIteration\n",
    "        fib = self.a\n",
    "        self.a, self.b = self.b, self.a + self.b\n",
    "        self.count += 1\n",
    "        return fib\n",
    "\n",
    "# Example usage:\n",
    "fib_iter = Fibonacci(10)\n",
    "for num in fib_iter:\n",
    "    print(num, end=\" \")  # Output: 0 1 1 2 3 5 8 13 21 34\n"
   ]
  },
  {
   "cell_type": "code",
   "execution_count": 68,
   "id": "19a960e1-e762-46ef-a6bd-aa0647474d1a",
   "metadata": {},
   "outputs": [
    {
     "name": "stdout",
     "output_type": "stream",
     "text": [
      "1\n",
      "2\n",
      "4\n",
      "8\n",
      "16\n",
      "32\n"
     ]
    }
   ],
   "source": [
    "# Practical 6 : Generator for powers of 2 up to a given exponent:\n",
    "def powers_of_two(exponent):\n",
    "    for i in range(exponent + 1):\n",
    "        yield 2 ** i\n",
    "\n",
    "# Example usage:\n",
    "for power in powers_of_two(5):\n",
    "    print(power)  # Output: 1, 2, 4, 8, 16, 32\n"
   ]
  },
  {
   "cell_type": "code",
   "execution_count": 69,
   "id": "b178b743-c3b7-403c-9d15-babc6e7685fd",
   "metadata": {},
   "outputs": [],
   "source": [
    "#Practical 7 : Generator function that reads a file line by line:\n",
    "def read_file_line_by_line(filename):\n",
    "    with open(filename, 'r') as file:\n",
    "        for line in file:\n",
    "            yield line.strip()\n",
    "\n",
    "# Example usage:\n",
    "# for line in read_file_line_by_line('example.txt'):\n",
    "#     print(line)\n"
   ]
  },
  {
   "cell_type": "code",
   "execution_count": 70,
   "id": "aa964335-3b01-4178-ae6e-8009c9bfd14b",
   "metadata": {},
   "outputs": [
    {
     "name": "stdout",
     "output_type": "stream",
     "text": [
      "[(4, 1), (5, 2), (1, 3)]\n"
     ]
    }
   ],
   "source": [
    "# Practical 8 : Lambda function to sort a list of tuples based on the second element:\n",
    "tuples_list = [(1, 3), (4, 1), (5, 2)]\n",
    "sorted_list = sorted(tuples_list, key=lambda x: x[1])\n",
    "\n",
    "print(sorted_list)  # Output: [(4, 1), (5, 2), (1, 3)]\n"
   ]
  },
  {
   "cell_type": "code",
   "execution_count": 71,
   "id": "f86b26e2-808d-4c53-b976-c41c467c0d5d",
   "metadata": {},
   "outputs": [
    {
     "name": "stdout",
     "output_type": "stream",
     "text": [
      "[32.0, 68.0, 86.0, 104.0]\n"
     ]
    }
   ],
   "source": [
    "#Practical 9 : Program to convert a list of temperatures from Celsius to Fahrenheit using map():\n",
    "def celsius_to_fahrenheit(c):\n",
    "    return (c * 9/5) + 32\n",
    "\n",
    "temperatures_celsius = [0, 20, 30, 40]\n",
    "temperatures_fahrenheit = list(map(celsius_to_fahrenheit, temperatures_celsius))\n",
    "\n",
    "print(temperatures_fahrenheit)  # Output: [32.0, 68.0, 86.0, 104.0]\n"
   ]
  },
  {
   "cell_type": "code",
   "execution_count": 72,
   "id": "57612dc2-7a1b-403b-b201-c133fd236688",
   "metadata": {},
   "outputs": [
    {
     "name": "stdout",
     "output_type": "stream",
     "text": [
      "hll wrld\n"
     ]
    }
   ],
   "source": [
    "#Practical 10: Program to remove all vowels from a string using filter():\n",
    "def remove_vowels(s):\n",
    "    vowels = \"aeiouAEIOU\"\n",
    "    return ''.join(filter(lambda x: x not in vowels, s))\n",
    "\n",
    "# Example usage:\n",
    "s = \"hello world\"\n",
    "print(remove_vowels(s))  # Output: \"hll wrld\"\n"
   ]
  },
  {
   "cell_type": "code",
   "execution_count": 73,
   "id": "26cdde52-3e6b-4354-84fe-3aa63e4766a9",
   "metadata": {},
   "outputs": [
    {
     "name": "stdout",
     "output_type": "stream",
     "text": [
      "[(34587, 163.8), (98762, 284.0), (77226, 108.85000000000001), (88112, 84.97)]\n"
     ]
    }
   ],
   "source": [
    "#Practical 11: Bookshop Order Total Calculation:\n",
    "\n",
    "# Input: List of sublists with order details\n",
    "orders = [\n",
    "    [34587, \"Learning Python, Mark Lutz\", 4, 40.95],\n",
    "    [98762, \"Programming Python, Mark Lutz \", 5, 56.80],\n",
    "    [77226, \"Head First Python, Paul Barry\", 3, 32.95],\n",
    "    [88112, \"Einführung in Python3, Bernd Klein\", 3, 24.99]\n",
    "]\n",
    "\n",
    "# Lambda function and map to calculate the desired output\n",
    "result = list(map(lambda order: (order[0], order[2] * order[3] + 10 if order[2] * order[3] < 100 else order[2] * order[3]), orders))\n",
    "\n",
    "# Output the result\n",
    "print(result)\n",
    "\n",
    "# Output: [(34587, 163.8), (98762, 284.0), (77226, 108.85000000000001), (88112, 84.97)]\n",
    "\n",
    "\n"
   ]
  }
 ],
 "metadata": {
  "kernelspec": {
   "display_name": "Python 3 (ipykernel)",
   "language": "python",
   "name": "python3"
  },
  "language_info": {
   "codemirror_mode": {
    "name": "ipython",
    "version": 3
   },
   "file_extension": ".py",
   "mimetype": "text/x-python",
   "name": "python",
   "nbconvert_exporter": "python",
   "pygments_lexer": "ipython3",
   "version": "3.10.8"
  }
 },
 "nbformat": 4,
 "nbformat_minor": 5
}
